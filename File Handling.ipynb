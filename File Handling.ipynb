{
 "cells": [
  {
   "cell_type": "code",
   "execution_count": 3,
   "metadata": {},
   "outputs": [
    {
     "name": "stdout",
     "output_type": "stream",
     "text": [
      "False\n",
      "\"Hi,\n",
      "True\n"
     ]
    }
   ],
   "source": [
    "with open(\"File1.txt\",'r') as f:\n",
    "    print(f.closed)\n",
    "    print(f.read(4))\n",
    "print(f.closed)    "
   ]
  },
  {
   "cell_type": "code",
   "execution_count": 7,
   "metadata": {},
   "outputs": [
    {
     "name": "stdout",
     "output_type": "stream",
     "text": [
      "POSITION OF FILE POINTER: 0\n",
      "b'\"Hi, i am Wasee'\n",
      "POSITION OF FILE POINTER: 15\n",
      "b'm We will '\n",
      "POSITION OF FILE POINTER: 25\n"
     ]
    }
   ],
   "source": [
    "file =  open(\"File1.txt\",\"rb\")\n",
    "\n",
    "print(\"POSITION OF FILE POINTER:\",  file.tell() )\n",
    "print(file.read(15))\n",
    "print(\"POSITION OF FILE POINTER:\",  file.tell() )\n",
    "print(file.read(10))\n",
    "print(\"POSITION OF FILE POINTER:\",  file.tell() )\n",
    "\n",
    "file.close()\n"
   ]
  },
  {
   "cell_type": "code",
   "execution_count": 8,
   "metadata": {},
   "outputs": [
    {
     "name": "stdout",
     "output_type": "stream",
     "text": [
      "POSITION : 0\n",
      "b'\"Hi, '\n",
      "POSITION : 5\n"
     ]
    }
   ],
   "source": [
    "file =  open(\"File1.txt\",\"rb\")\n",
    "print(\"POSITION :\",  file.tell() ) #0\n",
    "print(  file.read(5) )\n",
    "print(\"POSITION :\",  file.tell() )#15\n"
   ]
  },
  {
   "cell_type": "code",
   "execution_count": 9,
   "metadata": {},
   "outputs": [
    {
     "name": "stdout",
     "output_type": "stream",
     "text": [
      "Setting 5 bytes from the current position of file pointer\n",
      "POSITION : 0\n",
      "POSITION : 5\n",
      "b'i '\n"
     ]
    }
   ],
   "source": [
    "file =  open(\"File1.txt\",\"rb\")\n",
    "\n",
    "\n",
    "print(\"Setting 5 bytes from the current position of file pointer\")\n",
    "\n",
    "print(\"POSITION :\",  file.tell() )\n",
    "file.seek(5,1) \n",
    "print(\"POSITION :\",  file.tell() )\n",
    "\n",
    "print( file.read(2) )\n",
    "file.close()\n"
   ]
  },
  {
   "cell_type": "code",
   "execution_count": 10,
   "metadata": {},
   "outputs": [],
   "source": [
    "import os\n",
    "os.rename ( \"File1.txt\", \"File2.txt\" )\n"
   ]
  },
  {
   "cell_type": "code",
   "execution_count": 11,
   "metadata": {},
   "outputs": [],
   "source": [
    "import os\n",
    "os.remove(\"file32.txt\")"
   ]
  },
  {
   "cell_type": "code",
   "execution_count": 13,
   "metadata": {},
   "outputs": [],
   "source": [
    "os.mkdir(\"NewDir\")"
   ]
  },
  {
   "cell_type": "code",
   "execution_count": 19,
   "metadata": {},
   "outputs": [],
   "source": [
    "import os\n",
    "os.mkdir( \"C:\\\\NewDir\")\n",
    "os.makedirs(\"C:\\\\NewDir1\\\\NewDir2\\\\NewDir3\")\n"
   ]
  },
  {
   "cell_type": "code",
   "execution_count": 15,
   "metadata": {},
   "outputs": [
    {
     "ename": "AttributeError",
     "evalue": "module 'os' has no attribute 'getwd'",
     "output_type": "error",
     "traceback": [
      "\u001b[1;31m---------------------------------------------------------------------------\u001b[0m",
      "\u001b[1;31mAttributeError\u001b[0m                            Traceback (most recent call last)",
      "\u001b[1;32m<ipython-input-15-191afd795eb6>\u001b[0m in \u001b[0;36m<module>\u001b[1;34m\u001b[0m\n\u001b[1;32m----> 1\u001b[1;33m \u001b[0mos\u001b[0m\u001b[1;33m.\u001b[0m\u001b[0mgetwd\u001b[0m\u001b[1;33m(\u001b[0m\u001b[1;33m)\u001b[0m\u001b[1;33m\u001b[0m\u001b[1;33m\u001b[0m\u001b[0m\n\u001b[0m",
      "\u001b[1;31mAttributeError\u001b[0m: module 'os' has no attribute 'getwd'"
     ]
    }
   ],
   "source": [
    "os.getwd()"
   ]
  },
  {
   "cell_type": "code",
   "execution_count": 17,
   "metadata": {},
   "outputs": [
    {
     "data": {
      "text/plain": [
       "'C:\\\\Users\\\\MD WASEEM'"
      ]
     },
     "execution_count": 17,
     "metadata": {},
     "output_type": "execute_result"
    }
   ],
   "source": [
    "import os\n",
    "\n",
    "os.getcwd()"
   ]
  },
  {
   "cell_type": "code",
   "execution_count": 18,
   "metadata": {},
   "outputs": [],
   "source": [
    "os.chdir(\"E:\\\\\")\n",
    "os.getcwd()\n",
    "os.mkdir( \"NewDir1\")\n"
   ]
  },
  {
   "cell_type": "code",
   "execution_count": 21,
   "metadata": {},
   "outputs": [
    {
     "name": "stdout",
     "output_type": "stream",
     "text": [
      "10\n",
      "20\n"
     ]
    }
   ],
   "source": [
    "class Abc:\n",
    "    a=10\n",
    "    b=20\n",
    "    \n",
    "obj=Abc()\n",
    "print(obj.a)\n",
    "print(obj.b)"
   ]
  },
  {
   "cell_type": "code",
   "execution_count": null,
   "metadata": {},
   "outputs": [],
   "source": []
  }
 ],
 "metadata": {
  "kernelspec": {
   "display_name": "Python 3",
   "language": "python",
   "name": "python3"
  },
  "language_info": {
   "codemirror_mode": {
    "name": "ipython",
    "version": 3
   },
   "file_extension": ".py",
   "mimetype": "text/x-python",
   "name": "python",
   "nbconvert_exporter": "python",
   "pygments_lexer": "ipython3",
   "version": "3.8.3"
  }
 },
 "nbformat": 4,
 "nbformat_minor": 4
}
