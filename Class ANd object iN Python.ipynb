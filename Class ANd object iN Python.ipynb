{
 "cells": [
  {
   "cell_type": "code",
   "execution_count": 2,
   "metadata": {},
   "outputs": [
    {
     "name": "stdout",
     "output_type": "stream",
     "text": [
      " KANGNA LOAN\n"
     ]
    }
   ],
   "source": [
    "class Bank:\n",
    "    a = 10  \n",
    "    \n",
    "    def loan(self):\n",
    "        print(\" KANGNA LOAN\")\n",
    "    def insurance():\n",
    "        print(\"insurance\")\n",
    "    def transaction():\n",
    "        print(\"transaction\")\n",
    "obj = Bank()\n",
    "obj.loan()\n"
   ]
  },
  {
   "cell_type": "code",
   "execution_count": 4,
   "metadata": {},
   "outputs": [
    {
     "ename": "AttributeError",
     "evalue": "'Sqr' object has no attribute 'var'",
     "output_type": "error",
     "traceback": [
      "\u001b[1;31m---------------------------------------------------------------------------\u001b[0m",
      "\u001b[1;31mAttributeError\u001b[0m                            Traceback (most recent call last)",
      "\u001b[1;32m<ipython-input-4-ce0ec5055028>\u001b[0m in \u001b[0;36m<module>\u001b[1;34m\u001b[0m\n\u001b[0;32m      8\u001b[0m \u001b[1;33m\u001b[0m\u001b[0m\n\u001b[0;32m      9\u001b[0m \u001b[0mobj1\u001b[0m \u001b[1;33m=\u001b[0m \u001b[0mSqr\u001b[0m\u001b[1;33m(\u001b[0m\u001b[1;33m)\u001b[0m\u001b[1;33m\u001b[0m\u001b[1;33m\u001b[0m\u001b[0m\n\u001b[1;32m---> 10\u001b[1;33m \u001b[0mobj1\u001b[0m\u001b[1;33m.\u001b[0m\u001b[0marea\u001b[0m\u001b[1;33m(\u001b[0m\u001b[1;36m22\u001b[0m\u001b[1;33m)\u001b[0m\u001b[1;33m\u001b[0m\u001b[1;33m\u001b[0m\u001b[0m\n\u001b[0m\u001b[0;32m     11\u001b[0m \u001b[0mprint\u001b[0m\u001b[1;33m(\u001b[0m\u001b[0mobj1\u001b[0m\u001b[1;33m.\u001b[0m\u001b[0mvar\u001b[0m\u001b[1;33m)\u001b[0m\u001b[1;33m\u001b[0m\u001b[1;33m\u001b[0m\u001b[0m\n\u001b[0;32m     12\u001b[0m \u001b[1;32mclass\u001b[0m \u001b[0mSqr\u001b[0m \u001b[1;33m:\u001b[0m\u001b[1;33m\u001b[0m\u001b[1;33m\u001b[0m\u001b[0m\n",
      "\u001b[1;32m<ipython-input-4-ce0ec5055028>\u001b[0m in \u001b[0;36marea\u001b[1;34m(self, s)\u001b[0m\n\u001b[0;32m      4\u001b[0m     \u001b[1;32mdef\u001b[0m \u001b[0marea\u001b[0m \u001b[1;33m(\u001b[0m\u001b[0mself\u001b[0m\u001b[1;33m,\u001b[0m\u001b[0ms\u001b[0m\u001b[1;33m)\u001b[0m\u001b[1;33m:\u001b[0m\u001b[1;33m\u001b[0m\u001b[1;33m\u001b[0m\u001b[0m\n\u001b[0;32m      5\u001b[0m         \u001b[0mself\u001b[0m\u001b[1;33m.\u001b[0m\u001b[0mv\u001b[0m \u001b[1;33m=\u001b[0m \u001b[0ms\u001b[0m\u001b[1;33m\u001b[0m\u001b[1;33m\u001b[0m\u001b[0m\n\u001b[1;32m----> 6\u001b[1;33m         \u001b[0mprint\u001b[0m\u001b[1;33m(\u001b[0m\u001b[1;34m\"area =\"\u001b[0m\u001b[1;33m,\u001b[0m\u001b[0mself\u001b[0m\u001b[1;33m.\u001b[0m\u001b[0mvar\u001b[0m \u001b[1;33m*\u001b[0m \u001b[0mself\u001b[0m\u001b[1;33m.\u001b[0m\u001b[0mv\u001b[0m\u001b[1;33m)\u001b[0m\u001b[1;33m\u001b[0m\u001b[1;33m\u001b[0m\u001b[0m\n\u001b[0m\u001b[0;32m      7\u001b[0m         \u001b[0mprint\u001b[0m\u001b[1;33m(\u001b[0m\u001b[1;34m\"OBJECT VARIBLE \"\u001b[0m\u001b[1;33m,\u001b[0m \u001b[0mself\u001b[0m\u001b[1;33m.\u001b[0m\u001b[0mv\u001b[0m\u001b[1;33m)\u001b[0m\u001b[1;33m\u001b[0m\u001b[1;33m\u001b[0m\u001b[0m\n\u001b[0;32m      8\u001b[0m \u001b[1;33m\u001b[0m\u001b[0m\n",
      "\u001b[1;31mAttributeError\u001b[0m: 'Sqr' object has no attribute 'var'"
     ]
    }
   ],
   "source": [
    "class Sqr :\n",
    "    r = 2\n",
    "    \n",
    "    def area (self,s):\n",
    "        self.v = s\n",
    "        print(\"area =\",self.var * self.v)\n",
    "        print(\"OBJECT VARIBLE \", self.v)\n",
    "        \n",
    "obj1 = Sqr()\n",
    "obj1.area(22)\n",
    "print(obj1.var)\n",
    "class Sqr :\n",
    "    r = 2\n",
    "    \n",
    "    def area (self,s):\n",
    "        self.va = s\n",
    "        print(\"area =\",self.var * self.v)\n",
    "        print(\"OBJECT VARIBLE \", self.v)\n",
    "        \n",
    "obj1 = Sqr()\n",
    "obj1.area(22)\n",
    "print(obj1.var)\n"
   ]
  },
  {
   "cell_type": "code",
   "execution_count": 5,
   "metadata": {},
   "outputs": [
    {
     "name": "stdout",
     "output_type": "stream",
     "text": [
      "CONSTRUCTOR\n",
      "InClass Method…\n"
     ]
    }
   ],
   "source": [
    "class ABC:\n",
    "    def __init__(self):\n",
    "        print(\"CONSTRUCTOR\")\n",
    "        \n",
    "    def display(self) :\n",
    "        print (\"InClass Method…\")  \n",
    "    \n",
    "obj = ABC()\n",
    "obj.display()\n"
   ]
  },
  {
   "cell_type": "code",
   "execution_count": 6,
   "metadata": {},
   "outputs": [
    {
     "name": "stdout",
     "output_type": "stream",
     "text": [
      "CONSTRUCTOR\n"
     ]
    },
    {
     "data": {
      "text/plain": [
       "<__main__.ABC at 0x5f2f628>"
      ]
     },
     "execution_count": 6,
     "metadata": {},
     "output_type": "execute_result"
    }
   ],
   "source": [
    "class ABC:\n",
    "    def __init__(self):\n",
    "        print(\"CONSTRUCTOR\")\n",
    "        \n",
    "    def display(self) :\n",
    "        print (\"InClass Method…\")\n",
    "        \n",
    "ABC()\n",
    "\n"
   ]
  },
  {
   "cell_type": "code",
   "execution_count": 7,
   "metadata": {},
   "outputs": [
    {
     "name": "stdout",
     "output_type": "stream",
     "text": [
      "area = 484\n",
      "OBJECT VARIBLE  22\n"
     ]
    }
   ],
   "source": [
    "class Sqr :\n",
    "    def __init(self):\n",
    "        r=2\n",
    "                 \n",
    "    \n",
    "    def area (self,s):\n",
    "        self.v = s\n",
    "        print(\"area =\",self.v * self.v)\n",
    "        print(\"OBJECT VARIBLE \", self.v)\n",
    "        \n",
    "obj1 = Sqr()\n",
    "obj1.area(22)"
   ]
  },
  {
   "cell_type": "code",
   "execution_count": 8,
   "metadata": {},
   "outputs": [
    {
     "name": "stdout",
     "output_type": "stream",
     "text": [
      "Initialize variable \n",
      "The value is : 10\n"
     ]
    },
    {
     "data": {
      "text/plain": [
       "<__main__.ABC at 0x5f395e0>"
      ]
     },
     "execution_count": 8,
     "metadata": {},
     "output_type": "execute_result"
    }
   ],
   "source": [
    "class ABC( ) :\n",
    "    def __init__( self , v ):\n",
    "        print(\"Initialize variable \")  \n",
    "        self.var = v\n",
    "        print (\"The value is :\", self.var )\n",
    "        \n",
    "ABC(10)\n"
   ]
  },
  {
   "cell_type": "code",
   "execution_count": 18,
   "metadata": {},
   "outputs": [
    {
     "name": "stdout",
     "output_type": "stream",
     "text": [
      "hi\n"
     ]
    },
    {
     "data": {
      "text/plain": [
       "<__main__.Sqr at 0x5f398e0>"
      ]
     },
     "execution_count": 18,
     "metadata": {},
     "output_type": "execute_result"
    }
   ],
   "source": [
    "class Sqr :\n",
    "    def __init__(self):\n",
    "        print(\"hi\")\n",
    "                 \n",
    "    \n",
    "    def area (self,s):\n",
    "        self.v = s\n",
    "        print(\"area =\",self.v * self.v)\n",
    "        print(\"OBJECT VARIBLE \", self.v)\n",
    "        \n",
    "        \n",
    "\n",
    "Sqr()  \n",
    "\n",
    "        "
   ]
  },
  {
   "cell_type": "code",
   "execution_count": 17,
   "metadata": {},
   "outputs": [
    {
     "name": "stdout",
     "output_type": "stream",
     "text": [
      "constructor\n",
      "in class method\n"
     ]
    }
   ],
   "source": [
    "class Abc:\n",
    "    def __init__(self): #constructor\n",
    "        print(\"constructor\")\n",
    "    def display(self):\n",
    "        print(\"in class method\")\n",
    "obj=Abc()\n",
    "obj.display()\n"
   ]
  },
  {
   "cell_type": "code",
   "execution_count": 20,
   "metadata": {},
   "outputs": [
    {
     "ename": "SyntaxError",
     "evalue": "invalid syntax (<ipython-input-20-c49ce93e9402>, line 1)",
     "output_type": "error",
     "traceback": [
      "\u001b[1;36m  File \u001b[1;32m\"<ipython-input-20-c49ce93e9402>\"\u001b[1;36m, line \u001b[1;32m1\u001b[0m\n\u001b[1;33m    class ABC :\u001b[0m\n\u001b[1;37m               ^\u001b[0m\n\u001b[1;31mSyntaxError\u001b[0m\u001b[1;31m:\u001b[0m invalid syntax\n"
     ]
    }
   ],
   "source": [
    "class ABC :\u000b",
    "    def _init_( self , v ):\n",
    "        print(\"Initialize variable \")\n",
    "        self.var = v\n",
    "        print (\"The value is :\", self.var )\n",
    "        obj=ABC(10),\n",
    "...\n",
    "class Bank :\n",
    "    def __init__( self , n, bal, ph ): \n",
    "        self.name = n\n",
    "        self.balance = bal\n",
    "        self.phone_no = ph\n",
    "        print (\"The value is :\", self.name )\n",
    "        print (\"The value is :\", self.balance )\n",
    "        print (\"The value is :\", self.phone_no )\n",
    "        \n",
    "obj_sourabh = Bank(\"Sam\",282870, 9050003151)\n",
    "obj_nitish = Bank(\"Nitish\", 92348728342342348,None )\n"
   ]
  },
  {
   "cell_type": "code",
   "execution_count": 21,
   "metadata": {},
   "outputs": [
    {
     "name": "stdout",
     "output_type": "stream",
     "text": [
      "object value is  10\n",
      "value of class variable is :  1\n",
      "object value is  20\n",
      "value of class variable is :  2\n",
      "object value is  30\n",
      "value of class variable is :  3\n"
     ]
    }
   ],
   "source": [
    "class ABC():  \n",
    "    class_var = 0\n",
    "    \n",
    "    def __init__(self, var):\n",
    "        ABC.class_var += 1\n",
    "        \n",
    "        self.Var = var\t#object variable\n",
    "        print(\"object value is \", var )\n",
    "        print(\"value of class variable is : \", ABC.class_var)  \n",
    "        \n",
    "Obj1 = ABC(10)\n",
    "Obj2 = ABC(20)  \n",
    "Obj3 = ABC(30)\n"
   ]
  },
  {
   "cell_type": "code",
   "execution_count": 22,
   "metadata": {},
   "outputs": [
    {
     "name": "stdout",
     "output_type": "stream",
     "text": [
      "ENTER MARKS OF Sourabh IN SUBJECT 1 : 90\n",
      "ENTER MARKS OF Sourabh IN SUBJECT 2 : 98\n",
      "ENTER MARKS OF Sourabh IN SUBJECT 3 : 79\n",
      "Sourabh got [90, 98, 79]\n"
     ]
    }
   ],
   "source": [
    "class Students:\n",
    "    def __init__(self, name ):  \n",
    "        self.name = name  \n",
    "        self.marks = []\n",
    "    def enterMarks(self):  \n",
    "        for i in range(3):\n",
    "            m = int(input(\"ENTER MARKS OF %s IN SUBJECT %d : \" %(self.name, i+1)))\n",
    "            self.marks.append(m)  \n",
    "\n",
    "    def display(self):\n",
    "        print(self.name , \"got\", self.marks)\n",
    "\n",
    "s1 = Students(\"Sourabh\")  \n",
    "s1.enterMarks()\n",
    "s1.display()\n"
   ]
  },
  {
   "cell_type": "code",
   "execution_count": 23,
   "metadata": {},
   "outputs": [
    {
     "name": "stdout",
     "output_type": "stream",
     "text": [
      "NAME waseem\n",
      "ENTER MARKS OF waseem IN SUBJECT 1 : 121\n",
      "ENTER MARKS OF waseem IN SUBJECT 2 : 21\n"
     ]
    }
   ],
   "source": [
    "class Students:\n",
    "    def __init__(self, n ):  \n",
    "        self.name = n  \n",
    "        self.marks = []\n",
    "        \n",
    "    def enterMarks(self):  \n",
    "        n = input(\"NAME \")\n",
    "        self.name = n \n",
    "            \n",
    "        for i in range(2):\n",
    "            m = int(input(\"ENTER MARKS OF {} IN SUBJECT {} : \".format(self.name, i+1)))\n",
    "            self.marks.append(m)  \n",
    "\n",
    "    def display(self):\n",
    "        print(self.name , \"got\", self.marks)\n",
    "\n",
    "s1 = Students(\"Sourabh\")  \n",
    "s1.enterMarks()\n"
   ]
  },
  {
   "cell_type": "code",
   "execution_count": 24,
   "metadata": {},
   "outputs": [
    {
     "name": "stdout",
     "output_type": "stream",
     "text": [
      "NAME q\n",
      "ENTER MARKS OF q IN SUBJECT 1 : q\n"
     ]
    },
    {
     "ename": "ValueError",
     "evalue": "invalid literal for int() with base 10: 'q'",
     "output_type": "error",
     "traceback": [
      "\u001b[1;31m---------------------------------------------------------------------------\u001b[0m",
      "\u001b[1;31mValueError\u001b[0m                                Traceback (most recent call last)",
      "\u001b[1;32m<ipython-input-24-4d23323877c7>\u001b[0m in \u001b[0;36m<module>\u001b[1;34m\u001b[0m\n\u001b[0;32m     17\u001b[0m \u001b[1;33m\u001b[0m\u001b[0m\n\u001b[0;32m     18\u001b[0m \u001b[0ms1\u001b[0m \u001b[1;33m=\u001b[0m \u001b[0mStudents\u001b[0m\u001b[1;33m(\u001b[0m\u001b[1;34m\"Sourabh\"\u001b[0m\u001b[1;33m)\u001b[0m\u001b[1;33m\u001b[0m\u001b[1;33m\u001b[0m\u001b[0m\n\u001b[1;32m---> 19\u001b[1;33m \u001b[0ms1\u001b[0m\u001b[1;33m.\u001b[0m\u001b[0menterMarks\u001b[0m\u001b[1;33m(\u001b[0m\u001b[1;33m)\u001b[0m\u001b[1;33m\u001b[0m\u001b[1;33m\u001b[0m\u001b[0m\n\u001b[0m",
      "\u001b[1;32m<ipython-input-24-4d23323877c7>\u001b[0m in \u001b[0;36menterMarks\u001b[1;34m(self)\u001b[0m\n\u001b[0;32m     10\u001b[0m \u001b[1;33m\u001b[0m\u001b[0m\n\u001b[0;32m     11\u001b[0m         \u001b[1;32mfor\u001b[0m \u001b[0mi\u001b[0m \u001b[1;32min\u001b[0m \u001b[0mrange\u001b[0m\u001b[1;33m(\u001b[0m\u001b[1;36m2\u001b[0m\u001b[1;33m)\u001b[0m\u001b[1;33m:\u001b[0m\u001b[1;33m\u001b[0m\u001b[1;33m\u001b[0m\u001b[0m\n\u001b[1;32m---> 12\u001b[1;33m             \u001b[0mm\u001b[0m \u001b[1;33m=\u001b[0m \u001b[0mint\u001b[0m\u001b[1;33m(\u001b[0m\u001b[0minput\u001b[0m\u001b[1;33m(\u001b[0m\u001b[1;34m\"ENTER MARKS OF {} IN SUBJECT {} : \"\u001b[0m\u001b[1;33m.\u001b[0m\u001b[0mformat\u001b[0m\u001b[1;33m(\u001b[0m\u001b[0mself\u001b[0m\u001b[1;33m.\u001b[0m\u001b[0mname\u001b[0m\u001b[1;33m,\u001b[0m \u001b[0mi\u001b[0m\u001b[1;33m+\u001b[0m\u001b[1;36m1\u001b[0m\u001b[1;33m)\u001b[0m\u001b[1;33m)\u001b[0m\u001b[1;33m)\u001b[0m\u001b[1;33m\u001b[0m\u001b[1;33m\u001b[0m\u001b[0m\n\u001b[0m\u001b[0;32m     13\u001b[0m             \u001b[0mself\u001b[0m\u001b[1;33m.\u001b[0m\u001b[0mmarks\u001b[0m\u001b[1;33m.\u001b[0m\u001b[0mappend\u001b[0m\u001b[1;33m(\u001b[0m\u001b[0mm\u001b[0m\u001b[1;33m)\u001b[0m\u001b[1;33m\u001b[0m\u001b[1;33m\u001b[0m\u001b[0m\n\u001b[0;32m     14\u001b[0m \u001b[1;33m\u001b[0m\u001b[0m\n",
      "\u001b[1;31mValueError\u001b[0m: invalid literal for int() with base 10: 'q'"
     ]
    }
   ],
   "source": [
    "class Students:\n",
    "    a = 10\n",
    "    def __init__(self, n ):  \n",
    "        self.name = n  \n",
    "        self.marks = []\n",
    "        \n",
    "    def enterMarks(self):  \n",
    "        n = input(\"NAME \")\n",
    "        self.name = n \n",
    "            \n",
    "        for i in range(2):\n",
    "            m = int(input(\"ENTER MARKS OF {} IN SUBJECT {} : \".format(self.name, i+1)))\n",
    "            self.marks.append(m)  \n",
    "\n",
    "    def display(self):\n",
    "        print(self.name , \"got\", self.marks)\n",
    "\n",
    "s1 = Students(\"Sourabh\")  \n",
    "s1.enterMarks()\n"
   ]
  },
  {
   "cell_type": "code",
   "execution_count": 25,
   "metadata": {},
   "outputs": [
    {
     "name": "stdout",
     "output_type": "stream",
     "text": [
      "NAME was\n",
      "ENTER MARKS OF was IN SUBJECT 1 : 1\n",
      "ENTER MARKS OF was IN SUBJECT 2 : 1\n"
     ]
    }
   ],
   "source": [
    "class Students:\n",
    "    a = 10\n",
    "    def __init__(self, n ):  \n",
    "        self.name = n  \n",
    "        self.marks = []\n",
    "        \n",
    "    def enterMarks(self):  \n",
    "        n = input(\"NAME \")\n",
    "        self.name = n \n",
    "            \n",
    "        for i in range(2):\n",
    "            m = int(input(\"ENTER MARKS OF {} IN SUBJECT {} : \".format(self.name, i+1)))\n",
    "            self.marks.append(m)  \n",
    "\n",
    "    def display(self):\n",
    "        print(self.name , \"got\", self.marks)\n",
    "\n",
    "s1 = Students(\"Sourabh\")  \n",
    "s1.enterMarks()\n"
   ]
  },
  {
   "cell_type": "code",
   "execution_count": 28,
   "metadata": {},
   "outputs": [
    {
     "ename": "SyntaxError",
     "evalue": "invalid syntax (<ipython-input-28-0530dc167c81>, line 1)",
     "output_type": "error",
     "traceback": [
      "\u001b[1;36m  File \u001b[1;32m\"<ipython-input-28-0530dc167c81>\"\u001b[1;36m, line \u001b[1;32m1\u001b[0m\n\u001b[1;33m    pip install opencv-python\u001b[0m\n\u001b[1;37m        ^\u001b[0m\n\u001b[1;31mSyntaxError\u001b[0m\u001b[1;31m:\u001b[0m invalid syntax\n"
     ]
    }
   ],
   "source": [
    "pip install opencv-python\n",
    "\n",
    "\n"
   ]
  },
  {
   "cell_type": "code",
   "execution_count": null,
   "metadata": {},
   "outputs": [],
   "source": []
  },
  {
   "cell_type": "code",
   "execution_count": null,
   "metadata": {},
   "outputs": [],
   "source": []
  },
  {
   "cell_type": "code",
   "execution_count": null,
   "metadata": {},
   "outputs": [],
   "source": []
  },
  {
   "cell_type": "code",
   "execution_count": null,
   "metadata": {},
   "outputs": [],
   "source": []
  }
 ],
 "metadata": {
  "kernelspec": {
   "display_name": "Python 3",
   "language": "python",
   "name": "python3"
  },
  "language_info": {
   "codemirror_mode": {
    "name": "ipython",
    "version": 3
   },
   "file_extension": ".py",
   "mimetype": "text/x-python",
   "name": "python",
   "nbconvert_exporter": "python",
   "pygments_lexer": "ipython3",
   "version": "3.8.3"
  }
 },
 "nbformat": 4,
 "nbformat_minor": 4
}
