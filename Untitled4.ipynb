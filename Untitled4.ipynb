{
 "cells": [
  {
   "cell_type": "code",
   "execution_count": 5,
   "metadata": {},
   "outputs": [],
   "source": [
    "f = open( \"File1.txt\", 'w')\n",
    "\n",
    "f.write(\"\"\"\"Hi, i am Waseem We will do Numpy, Pandas and Machine LearningHi, We are enjoying Python. After this,\\n\",\n",
    "    We will do Numpy, Pandas and Machine LearningHi, We are enjoying Python. After this,\\n\",\n",
    "    We will do Numpy, Pandas and Machine LearningHi, We are enjoying Python. After this,\\n\",\n",
    "    We will do Numpy, Pandas and Machine Learning\"\"\")\n",
    "f.close()"
   ]
  },
  {
   "cell_type": "code",
   "execution_count": 9,
   "metadata": {},
   "outputs": [
    {
     "name": "stdout",
     "output_type": "stream",
     "text": [
      "Hi, i am Waseem\n"
     ]
    }
   ],
   "source": [
    "f= open(\"File1.txt\", 'r')\n",
    "print(f.readline())\n",
    "f.close()"
   ]
  },
  {
   "cell_type": "code",
   "execution_count": 10,
   "metadata": {},
   "outputs": [
    {
     "name": "stdout",
     "output_type": "stream",
     "text": [
      "Hi, i am Waseem\n"
     ]
    }
   ],
   "source": [
    "f= open(\"File1.txt\", 'r')\n",
    "print(f.read())\n",
    "f.close()"
   ]
  },
  {
   "cell_type": "code",
   "execution_count": 11,
   "metadata": {},
   "outputs": [
    {
     "name": "stdout",
     "output_type": "stream",
     "text": [
      "Hi, i am Waseem\n"
     ]
    }
   ],
   "source": [
    "f= open(\"File1.txt\", 'r')\n",
    "print(f.read())\n",
    "f.close()\n"
   ]
  },
  {
   "cell_type": "code",
   "execution_count": 12,
   "metadata": {},
   "outputs": [],
   "source": [
    "f = open( \"File1.txt\", 'w')\n",
    "\n",
    "f.write(\"\"\"\"Hi, i am Waseem We will do Numpy, Pandas and Machine LearningHi, We are enjoying Python. After this,\\n\",\n",
    "    We will do Numpy, Pandas and Machine LearningHi, We are enjoying Python. After this,\\n\",\n",
    "    We will do Numpy, Pandas and Machine LearningHi, We are enjoying Python. After this,\\n\",\n",
    "    We will do Numpy, Pandas and Machine Learning\"\"\")\n",
    "f.close()"
   ]
  },
  {
   "cell_type": "code",
   "execution_count": 17,
   "metadata": {},
   "outputs": [
    {
     "name": "stdout",
     "output_type": "stream",
     "text": [
      "\"Hi, i am \n",
      "None\n"
     ]
    }
   ],
   "source": [
    "f= open(\"File1.txt\", 'r')\n",
    "print(f.read(10))\n",
    "print(f.close())\n"
   ]
  },
  {
   "cell_type": "code",
   "execution_count": null,
   "metadata": {},
   "outputs": [],
   "source": []
  }
 ],
 "metadata": {
  "kernelspec": {
   "display_name": "Python 3",
   "language": "python",
   "name": "python3"
  },
  "language_info": {
   "codemirror_mode": {
    "name": "ipython",
    "version": 3
   },
   "file_extension": ".py",
   "mimetype": "text/x-python",
   "name": "python",
   "nbconvert_exporter": "python",
   "pygments_lexer": "ipython3",
   "version": "3.8.3"
  }
 },
 "nbformat": 4,
 "nbformat_minor": 4
}
