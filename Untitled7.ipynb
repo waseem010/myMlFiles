{
 "cells": [
  {
   "cell_type": "code",
   "execution_count": 1,
   "metadata": {},
   "outputs": [
    {
     "name": "stdout",
     "output_type": "stream",
     "text": [
      "CLASS VARIABLE VALUE :  1\n",
      "OBJECT VARIABLE VALUE :  10\n",
      "CLASS VARIABLE VALUE :  2\n",
      "OBJECT VARIABLE VALUE :  20\n",
      "CLASS VARIABLE VALUE :  3\n",
      "OBJECT VARIABLE VALUE :  30\n"
     ]
    }
   ],
   "source": [
    "class ABC():  \n",
    "    class_var = 0\n",
    "    def __init__(self, var):  \n",
    "        ABC.class_var += 1\n",
    "        self.var = var       #object variable\n",
    "        print(\"CLASS VARIABLE VALUE : \", ABC.class_var)  \n",
    "        print(\"OBJECT VARIABLE VALUE : \", var )\n",
    "\n",
    "Obj1 = ABC(10)  \n",
    "Obj2 = ABC(20)  \n",
    "Obj3 = ABC(30)\n",
    "\n",
    "def __del__(self):\n",
    "    ABC.class_var -=1\n",
    "    print(ABC.class_var, \"OBJECT WITH VALUE %d IS GOING OUT OF SCOPE\" %self.var)\n"
   ]
  },
  {
   "cell_type": "code",
   "execution_count": 3,
   "metadata": {},
   "outputs": [
    {
     "name": "stdout",
     "output_type": "stream",
     "text": [
      "CLASS VARIABLE VALUE :  1\n",
      "OBJECT VARIABLE VALUE :  34\n"
     ]
    },
    {
     "data": {
      "text/plain": [
       "''"
      ]
     },
     "execution_count": 3,
     "metadata": {},
     "output_type": "execute_result"
    }
   ],
   "source": [
    "class ABC:  \n",
    "    class_var = 0\n",
    "    \n",
    "    def __init__(self, v):\n",
    "        ABC.class_var += 1\n",
    "        self.var = v     #object variable\n",
    "        \n",
    "        print(\"CLASS VARIABLE VALUE : \", ABC.class_var)  \n",
    "        print(\"OBJECT VARIABLE VALUE : \", self.var )\n",
    "\n",
    "ob1 = ABC(34)\n",
    "\"\""
   ]
  },
  {
   "cell_type": "code",
   "execution_count": 4,
   "metadata": {},
   "outputs": [
    {
     "name": "stdout",
     "output_type": "stream",
     "text": [
      "CLASS VARIABLE VALUE :  1\n",
      "OBJECT VARIABLE VALUE :  34\n",
      "CLASS VARIABLE VALUE :  2\n",
      "OBJECT VARIABLE VALUE :  45\n"
     ]
    }
   ],
   "source": [
    "class ABC:  \n",
    "    class_var = 0\n",
    "    \n",
    "    def __init__(self, v):  \n",
    "        ABC.class_var += 1\n",
    "        self.var = v     #object variable\n",
    "        \n",
    "        print(\"CLASS VARIABLE VALUE : \", ABC.class_var)  \n",
    "        print(\"OBJECT VARIABLE VALUE : \", self.var )\n",
    "\n",
    "ob1 = ABC(34)\n",
    "ob2 = ABC(45)\n",
    "del ob1"
   ]
  },
  {
   "cell_type": "code",
   "execution_count": 5,
   "metadata": {},
   "outputs": [
    {
     "name": "stdout",
     "output_type": "stream",
     "text": [
      "CLASS VARIABLE VALUE :  3\n",
      "OBJECT VARIABLE VALUE :  1\n"
     ]
    }
   ],
   "source": [
    "ob1 = ABC(1)"
   ]
  },
  {
   "cell_type": "code",
   "execution_count": 6,
   "metadata": {},
   "outputs": [],
   "source": [
    "del ob1"
   ]
  },
  {
   "cell_type": "code",
   "execution_count": 7,
   "metadata": {},
   "outputs": [
    {
     "ename": "NameError",
     "evalue": "name 'ob1' is not defined",
     "output_type": "error",
     "traceback": [
      "\u001b[1;31m---------------------------------------------------------------------------\u001b[0m",
      "\u001b[1;31mNameError\u001b[0m                                 Traceback (most recent call last)",
      "\u001b[1;32m<ipython-input-7-65dca624aaea>\u001b[0m in \u001b[0;36m<module>\u001b[1;34m\u001b[0m\n\u001b[1;32m----> 1\u001b[1;33m \u001b[0mob1\u001b[0m\u001b[1;33m\u001b[0m\u001b[1;33m\u001b[0m\u001b[0m\n\u001b[0m",
      "\u001b[1;31mNameError\u001b[0m: name 'ob1' is not defined"
     ]
    }
   ],
   "source": [
    "ob1\n"
   ]
  },
  {
   "cell_type": "code",
   "execution_count": 10,
   "metadata": {},
   "outputs": [
    {
     "ename": "SyntaxError",
     "evalue": "invalid syntax (<ipython-input-10-0530dc167c81>, line 1)",
     "output_type": "error",
     "traceback": [
      "\u001b[1;36m  File \u001b[1;32m\"<ipython-input-10-0530dc167c81>\"\u001b[1;36m, line \u001b[1;32m1\u001b[0m\n\u001b[1;33m    pip install opencv-python\u001b[0m\n\u001b[1;37m        ^\u001b[0m\n\u001b[1;31mSyntaxError\u001b[0m\u001b[1;31m:\u001b[0m invalid syntax\n"
     ]
    }
   ],
   "source": [
    "pip install opencv-python\n",
    "\n",
    "\n"
   ]
  },
  {
   "cell_type": "code",
   "execution_count": 1,
   "metadata": {},
   "outputs": [
    {
     "name": "stdout",
     "output_type": "stream",
     "text": [
      "Note: you may need to restart the kernel to use updated packages.\n"
     ]
    },
    {
     "name": "stderr",
     "output_type": "stream",
     "text": [
      "'C:\\Users\\MD' is not recognized as an internal or external command,\n",
      "operable program or batch file.\n"
     ]
    }
   ],
   "source": [
    "pip install opencv-python"
   ]
  },
  {
   "cell_type": "code",
   "execution_count": 2,
   "metadata": {},
   "outputs": [
    {
     "name": "stdout",
     "output_type": "stream",
     "text": [
      "Note: you may need to restart the kernel to use updated packages.\n"
     ]
    },
    {
     "name": "stderr",
     "output_type": "stream",
     "text": [
      "'C:\\Users\\MD' is not recognized as an internal or external command,\n",
      "operable program or batch file.\n"
     ]
    }
   ],
   "source": [
    "pip install opencv-python"
   ]
  },
  {
   "cell_type": "code",
   "execution_count": 3,
   "metadata": {},
   "outputs": [
    {
     "name": "stdout",
     "output_type": "stream",
     "text": [
      "FROM CLASS METHOD, var1 = 10\n",
      "FROM CLASS METHOD, var2 = 20\n"
     ]
    }
   ],
   "source": [
    "class ABC():\n",
    "    def __init__(self, v1, v2 ):  \n",
    "        self.var1= v1\n",
    "        self. __var2= v2          #private variable\n",
    "        \n",
    "    def display(self ):\n",
    "        print(\"FROM CLASS METHOD, var1 =\", self.var1)  \n",
    "        print(\"FROM CLASS METHOD, var2 =\", self. __var2)\n",
    "\n",
    "obj = ABC(10,20)\n",
    "obj.display()\n"
   ]
  },
  {
   "cell_type": "code",
   "execution_count": 4,
   "metadata": {},
   "outputs": [
    {
     "name": "stdout",
     "output_type": "stream",
     "text": [
      "FROM CLASS METHOD, var1 = 10\n",
      "FROM CLASS METHOD, var2 = 20\n",
      "FROM MAIN MODULE, Var1 = 10\n"
     ]
    },
    {
     "ename": "AttributeError",
     "evalue": "'ABC' object has no attribute '__var2'",
     "output_type": "error",
     "traceback": [
      "\u001b[1;31m---------------------------------------------------------------------------\u001b[0m",
      "\u001b[1;31mAttributeError\u001b[0m                            Traceback (most recent call last)",
      "\u001b[1;32m<ipython-input-4-b52f7275c35c>\u001b[0m in \u001b[0;36m<module>\u001b[1;34m\u001b[0m\n\u001b[0;32m     11\u001b[0m \u001b[0mobj\u001b[0m\u001b[1;33m.\u001b[0m\u001b[0mdisplay\u001b[0m\u001b[1;33m(\u001b[0m\u001b[1;33m)\u001b[0m\u001b[1;33m\u001b[0m\u001b[1;33m\u001b[0m\u001b[0m\n\u001b[0;32m     12\u001b[0m \u001b[0mprint\u001b[0m\u001b[1;33m(\u001b[0m\u001b[1;34m\"FROM MAIN MODULE, Var1 =\"\u001b[0m\u001b[1;33m,\u001b[0m \u001b[0mobj\u001b[0m\u001b[1;33m.\u001b[0m\u001b[0mvar1\u001b[0m \u001b[1;33m)\u001b[0m\u001b[1;33m\u001b[0m\u001b[1;33m\u001b[0m\u001b[0m\n\u001b[1;32m---> 13\u001b[1;33m \u001b[0mprint\u001b[0m\u001b[1;33m(\u001b[0m\u001b[1;34m\"FROM MAIN MODULE, Var2 =\"\u001b[0m\u001b[1;33m,\u001b[0m \u001b[0mobj\u001b[0m\u001b[1;33m.\u001b[0m \u001b[0m__var2\u001b[0m\u001b[1;33m)\u001b[0m\u001b[1;33m\u001b[0m\u001b[1;33m\u001b[0m\u001b[0m\n\u001b[0m",
      "\u001b[1;31mAttributeError\u001b[0m: 'ABC' object has no attribute '__var2'"
     ]
    }
   ],
   "source": [
    "class ABC():\n",
    "    def __init__(self, v1, v2 ):  \n",
    "        self.var1= v1\n",
    "        self. __var2= v2          #private variable\n",
    "        \n",
    "    def display(self ):\n",
    "        print(\"FROM CLASS METHOD, var1 =\", self.var1)  \n",
    "        print(\"FROM CLASS METHOD, var2 =\", self. __var2)\n",
    "\n",
    "obj = ABC(10,20)\n",
    "obj.display()\n",
    "print(\"FROM MAIN MODULE, Var1 =\", obj.var1 )  \n",
    "print(\"FROM MAIN MODULE, Var2 =\", obj. __var2)\n"
   ]
  },
  {
   "cell_type": "code",
   "execution_count": 5,
   "metadata": {},
   "outputs": [
    {
     "name": "stdout",
     "output_type": "stream",
     "text": [
      "FROM CLASS METHOD, var = 10\n"
     ]
    }
   ],
   "source": [
    "class ABC():\n",
    "    def __init__(self, var ):  \n",
    "        self.__var= var\n",
    "    def display(self):\n",
    "        print(\"FROM CLASS METHOD, var =\", self. __var)\n",
    "        \n",
    "obj = ABC(10)\n",
    "obj.display()\n"
   ]
  },
  {
   "cell_type": "code",
   "execution_count": 10,
   "metadata": {},
   "outputs": [
    {
     "name": "stdout",
     "output_type": "stream",
     "text": [
      "FROM CLASS METHOD, var = 10\n"
     ]
    }
   ],
   "source": [
    "class ABC():\n",
    "    def __init__(self, var ):  \n",
    "        self.__var= var\n",
    "    def __display(self):\n",
    "        print(\"FROM CLASS METHOD, var =\", self. __var)\n",
    "        \n",
    "obj = ABC(10)\n",
    "obj._ABC__display()\n"
   ]
  },
  {
   "cell_type": "code",
   "execution_count": 13,
   "metadata": {},
   "outputs": [
    {
     "name": "stdout",
     "output_type": "stream",
     "text": [
      "FROM CLASS METHOD, var = 10\n"
     ]
    }
   ],
   "source": [
    "class ABC():\n",
    "    def __init__(self, var ):  \n",
    "        self.__var= var\n",
    "    def __display(self):\n",
    "        print(\"FROM CLASS METHOD, var =\", self. __var)\n",
    "        \n",
    "obj = ABC(10)\n",
    "obj._ABC__display()\n"
   ]
  },
  {
   "cell_type": "code",
   "execution_count": 14,
   "metadata": {},
   "outputs": [
    {
     "name": "stdout",
     "output_type": "stream",
     "text": [
      "FROM CLASS METHOD, var = 10\n"
     ]
    }
   ],
   "source": [
    "class ABC():\n",
    "    def __init__(self, var ):  \n",
    "        self.__var= var\n",
    "    def __display(self):\n",
    "        print(\"FROM CLASS METHOD, var =\", self. __var)\n",
    "        \n",
    "obj = ABC(10)\n",
    "obj._ABC__display()\n"
   ]
  },
  {
   "cell_type": "code",
   "execution_count": 15,
   "metadata": {},
   "outputs": [
    {
     "name": "stdout",
     "output_type": "stream",
     "text": [
      "Enter a:1\n",
      "Enter b:2\n",
      "a/b = 0.5\n"
     ]
    }
   ],
   "source": [
    "a = int(input(\"Enter a:\"))\n",
    "b = int(input(\"Enter b:\"))  \n",
    "div = a/b\n",
    "\n",
    "\n",
    "print(  \"a/b = {}\".format(div) )\n"
   ]
  },
  {
   "cell_type": "code",
   "execution_count": 16,
   "metadata": {},
   "outputs": [
    {
     "name": "stdout",
     "output_type": "stream",
     "text": [
      "Enter First Number: 1\n",
      "Enter Second Number: a\n",
      "please provide int value only\n"
     ]
    }
   ],
   "source": [
    "try:\n",
    "    x=int(input(\"Enter First Number: \"))  \n",
    "    y=int(input(\"Enter Second Number: \"))  \n",
    "    print(x/y)\n",
    "    \n",
    "except ZeroDivisionError :  \n",
    "    print(\"Can't Divide with Zero\")\n",
    "    \n",
    "except ValueError:\n",
    "    print(\"please provide int value only\")\n"
   ]
  },
  {
   "cell_type": "code",
   "execution_count": 18,
   "metadata": {},
   "outputs": [
    {
     "name": "stdout",
     "output_type": "stream",
     "text": [
      "Invalid input\n"
     ]
    }
   ],
   "source": [
    "try:\n",
    "    \n",
    "    print(1/0)\n",
    "except (TypeError,ZeroDivisionError):\n",
    "    print(\"Invalid input\")\n"
   ]
  },
  {
   "cell_type": "code",
   "execution_count": 19,
   "metadata": {},
   "outputs": [
    {
     "name": "stdout",
     "output_type": "stream",
     "text": [
      "try\n",
      "except\n",
      "finally\n"
     ]
    }
   ],
   "source": [
    "try:\n",
    "    print(\"try\")  \n",
    "    print(10/0)\n",
    "\n",
    "except ZeroDivisionError:  \n",
    "    print(\"except\")\n",
    "\n",
    "finally:\n",
    "    print(\"finally\")\n"
   ]
  },
  {
   "cell_type": "code",
   "execution_count": 20,
   "metadata": {},
   "outputs": [
    {
     "name": "stdout",
     "output_type": "stream",
     "text": [
      "Error\n"
     ]
    },
    {
     "ename": "NameError",
     "evalue": "name 'fileptr' is not defined",
     "output_type": "error",
     "traceback": [
      "\u001b[1;31m---------------------------------------------------------------------------\u001b[0m",
      "\u001b[1;31mNameError\u001b[0m                                 Traceback (most recent call last)",
      "\u001b[1;32m<ipython-input-20-8c94146f8709>\u001b[0m in \u001b[0;36m<module>\u001b[1;34m\u001b[0m\n\u001b[0;32m      6\u001b[0m \u001b[1;33m\u001b[0m\u001b[0m\n\u001b[0;32m      7\u001b[0m \u001b[1;32mfinally\u001b[0m\u001b[1;33m:\u001b[0m\u001b[1;33m\u001b[0m\u001b[1;33m\u001b[0m\u001b[0m\n\u001b[1;32m----> 8\u001b[1;33m     \u001b[0mfileptr\u001b[0m\u001b[1;33m.\u001b[0m\u001b[0mclose\u001b[0m\u001b[1;33m(\u001b[0m\u001b[1;33m)\u001b[0m\u001b[1;33m\u001b[0m\u001b[1;33m\u001b[0m\u001b[0m\n\u001b[0m\u001b[0;32m      9\u001b[0m     \u001b[0mprint\u001b[0m\u001b[1;33m(\u001b[0m\u001b[1;34m\"file closed\"\u001b[0m\u001b[1;33m)\u001b[0m\u001b[1;33m\u001b[0m\u001b[1;33m\u001b[0m\u001b[0m\n",
      "\u001b[1;31mNameError\u001b[0m: name 'fileptr' is not defined"
     ]
    }
   ],
   "source": [
    "try:\n",
    "    fileptr = open(\"file33.txt\",\"r\")\n",
    "\n",
    "except:\n",
    "    print(\"Error\")\n",
    "    \n",
    "finally:\n",
    "    fileptr.close()\n",
    "    print(\"file closed\")\n"
   ]
  },
  {
   "cell_type": "code",
   "execution_count": 21,
   "metadata": {},
   "outputs": [
    {
     "name": "stdout",
     "output_type": "stream",
     "text": [
      "Error\n"
     ]
    },
    {
     "ename": "NameError",
     "evalue": "name 'fileptr' is not defined",
     "output_type": "error",
     "traceback": [
      "\u001b[1;31m---------------------------------------------------------------------------\u001b[0m",
      "\u001b[1;31mNameError\u001b[0m                                 Traceback (most recent call last)",
      "\u001b[1;32m<ipython-input-21-e6a89d74af79>\u001b[0m in \u001b[0;36m<module>\u001b[1;34m\u001b[0m\n\u001b[0;32m      6\u001b[0m \u001b[1;33m\u001b[0m\u001b[0m\n\u001b[0;32m      7\u001b[0m \u001b[1;32mfinally\u001b[0m\u001b[1;33m:\u001b[0m\u001b[1;33m\u001b[0m\u001b[1;33m\u001b[0m\u001b[0m\n\u001b[1;32m----> 8\u001b[1;33m     \u001b[0mfileptr\u001b[0m\u001b[1;33m.\u001b[0m\u001b[0mclose\u001b[0m\u001b[1;33m(\u001b[0m\u001b[1;33m)\u001b[0m\u001b[1;33m\u001b[0m\u001b[1;33m\u001b[0m\u001b[0m\n\u001b[0m\u001b[0;32m      9\u001b[0m     \u001b[0mprint\u001b[0m\u001b[1;33m(\u001b[0m\u001b[1;34m\"file closed\"\u001b[0m\u001b[1;33m)\u001b[0m\u001b[1;33m\u001b[0m\u001b[1;33m\u001b[0m\u001b[0m\n",
      "\u001b[1;31mNameError\u001b[0m: name 'fileptr' is not defined"
     ]
    }
   ],
   "source": [
    "try:\n",
    "    fileptr = open(\"file1.txt\",\"r\")\n",
    "\n",
    "except:\n",
    "    print(\"Error\")\n",
    "    \n",
    "finally:\n",
    "    fileptr.close()\n",
    "    print(\"file closed\")\n"
   ]
  },
  {
   "cell_type": "code",
   "execution_count": 22,
   "metadata": {},
   "outputs": [
    {
     "name": "stdout",
     "output_type": "stream",
     "text": [
      "file closed\n"
     ]
    }
   ],
   "source": [
    "try:\n",
    "    fileptr = open(\"File2.txt\",\"r\")\n",
    "\n",
    "except:\n",
    "    print(\"Error\")\n",
    "    \n",
    "finally:\n",
    "    fileptr.close()\n",
    "    print(\"file closed\")\n"
   ]
  },
  {
   "cell_type": "code",
   "execution_count": 23,
   "metadata": {},
   "outputs": [
    {
     "name": "stdout",
     "output_type": "stream",
     "text": [
      "AGE12\n",
      "INVALID\n"
     ]
    }
   ],
   "source": [
    "try:\n",
    "    age = int(input(\"AGE\"))  \n",
    "    if age < 18:\n",
    "        raise ValueError  \n",
    "    else:\n",
    "        print(\"VALID\")\n",
    "        \n",
    "except ValueError:\n",
    "    print(\"INVALID\")\n"
   ]
  },
  {
   "cell_type": "code",
   "execution_count": null,
   "metadata": {},
   "outputs": [],
   "source": []
  }
 ],
 "metadata": {
  "kernelspec": {
   "display_name": "Python 3",
   "language": "python",
   "name": "python3"
  },
  "language_info": {
   "codemirror_mode": {
    "name": "ipython",
    "version": 3
   },
   "file_extension": ".py",
   "mimetype": "text/x-python",
   "name": "python",
   "nbconvert_exporter": "python",
   "pygments_lexer": "ipython3",
   "version": "3.8.3"
  }
 },
 "nbformat": 4,
 "nbformat_minor": 4
}
